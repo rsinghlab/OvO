{
 "cells": [
  {
   "cell_type": "code",
   "execution_count": 1,
   "id": "ffc8b528",
   "metadata": {},
   "outputs": [],
   "source": [
    "import pandas as pd\n",
    "import os\n",
    "import shutil\n",
    "import tqdm\n",
    "from sklearn.model_selection import train_test_split"
   ]
  },
  {
   "cell_type": "code",
   "execution_count": 2,
   "id": "6a0bd4d2",
   "metadata": {},
   "outputs": [
    {
     "name": "stdout",
     "output_type": "stream",
     "text": [
      "Loaded modality 1\n",
      "Loaded modality 2\n",
      "Loaded modality 3\n",
      "Loaded modality 4\n",
      "Loaded modality 5\n",
      "Loaded modality 6\n"
     ]
    }
   ],
   "source": [
    "# PATHS\n",
    "TASK = 'mortality_task'\n",
    "save_path = \"your_save_path_from_preprocessing.ipynb\"\n",
    "\n",
    "MODALITY1 = f'{save_path}/by_modality/{TASK}/modality1_demographics.csv'\n",
    "MODALITY2 = f'{save_path}/by_modality/{TASK}/modality2_diagnosis.csv'\n",
    "MODALITY3 = f'{save_path}/by_modality/{TASK}/modality3_treatment.csv'\n",
    "MODALITY4 = f'{save_path}/by_modality/{TASK}/modality4_medication.csv'\n",
    "MODALITY5 = f'{save_path}/by_modality/{TASK}/modality5_lab.csv'\n",
    "MODALITY6 = f'{save_path}/by_modality/{TASK}/modality6_aps.csv'\n",
    "\n",
    "dfm1 = pd.read_csv(MODALITY1, index_col=0)\n",
    "print(\"Loaded modality 1\")\n",
    "dfm2 = pd.read_csv(MODALITY2, index_col=0)\n",
    "print(\"Loaded modality 2\")\n",
    "dfm3 = pd.read_csv(MODALITY3, index_col=0)\n",
    "print(\"Loaded modality 3\")\n",
    "dfm4 = pd.read_csv(MODALITY4, index_col=0)\n",
    "print(\"Loaded modality 4\")\n",
    "dfm5 = pd.read_csv(MODALITY5, index_col=0)\n",
    "print(\"Loaded modality 5\")\n",
    "dfm6 = pd.read_csv(MODALITY6, index_col=0)\n",
    "print(\"Loaded modality 6\")"
   ]
  },
  {
   "cell_type": "markdown",
   "id": "37d9f6eb",
   "metadata": {},
   "source": [
    "Next, get all common patient stay ids"
   ]
  },
  {
   "cell_type": "code",
   "execution_count": 3,
   "id": "b5201c81",
   "metadata": {},
   "outputs": [],
   "source": [
    "mods = [dfm1, dfm2, dfm3, dfm4, dfm5, dfm6]\n",
    "patient_stay_ids = []\n",
    "for m in mods:\n",
    "    patient_stay_ids.append(set(list(m['patientunitstayid'])))\n",
    "common_stay_ids = list(set.intersection(*patient_stay_ids))"
   ]
  },
  {
   "cell_type": "markdown",
   "id": "29249746",
   "metadata": {},
   "source": [
    "Get associated patient ids by filtering demographic dataframe."
   ]
  },
  {
   "cell_type": "code",
   "execution_count": 4,
   "id": "3d090fe5",
   "metadata": {},
   "outputs": [
    {
     "name": "stdout",
     "output_type": "stream",
     "text": [
      "Found 84182 unique patients associated with 103018 common stay ids.\n"
     ]
    }
   ],
   "source": [
    "dfm1_common = dfm1[dfm1['patientunitstayid'].isin(common_stay_ids)]\n",
    "pid = list(dfm1_common['uniquepid'].unique())\n",
    "print(f\"Found {len(pid)} unique patients associated with {len(common_stay_ids)} common stay ids.\")"
   ]
  },
  {
   "cell_type": "code",
   "execution_count": 5,
   "id": "77d90e66",
   "metadata": {},
   "outputs": [
    {
     "name": "stdout",
     "output_type": "stream",
     "text": [
      "58926, 8419, 16837 train, val, test patients\n"
     ]
    }
   ],
   "source": [
    "pid_train_val, pid_test = train_test_split(pid, test_size=0.2, random_state=42)\n",
    "pid_train, pid_val = train_test_split(pid_train_val, test_size=0.125, random_state=42)\n",
    "print(f\"{len(pid_train)}, {len(pid_val)}, {len(pid_test)} train, val, test patients\")"
   ]
  },
  {
   "cell_type": "markdown",
   "id": "137de698",
   "metadata": {},
   "source": [
    "With these patients, split the patient stay ids."
   ]
  },
  {
   "cell_type": "code",
   "execution_count": 6,
   "id": "87d5cbc6",
   "metadata": {},
   "outputs": [
    {
     "name": "stdout",
     "output_type": "stream",
     "text": [
      "72134, 10273, 20611 train, val, test stays\n"
     ]
    }
   ],
   "source": [
    "stayid_train = list(dfm1_common[dfm1_common['uniquepid'].isin(pid_train)]['patientunitstayid'])\n",
    "stayid_val = list(dfm1_common[dfm1_common['uniquepid'].isin(pid_val)]['patientunitstayid'])\n",
    "stayid_test = list(dfm1_common[dfm1_common['uniquepid'].isin(pid_test)]['patientunitstayid'])\n",
    "print(f\"{len(stayid_train)}, {len(stayid_val)}, {len(stayid_test)} train, val, test stays\")"
   ]
  },
  {
   "cell_type": "code",
   "execution_count": 7,
   "id": "d108b36e",
   "metadata": {},
   "outputs": [],
   "source": [
    "with open(f'{save_path}/by_modality/{TASK}/splits/split.txt', 'w') as f:\n",
    "    f.write(\"train\\n\")\n",
    "    f.write(\",\".join([str(s) for s in stayid_train]))\n",
    "    f.write(\"val\\n\")\n",
    "    f.write(\",\".join([str(s) for s in stayid_val]))\n",
    "    f.write(\"test\\n\")\n",
    "    f.write(\",\".join([str(s) for s in stayid_test]))"
   ]
  },
  {
   "cell_type": "markdown",
   "id": "08bb905a",
   "metadata": {},
   "source": [
    "For each modality, create and save a dataframe corresponding to train subset and test subset."
   ]
  },
  {
   "cell_type": "code",
   "execution_count": 8,
   "id": "bc69e4b4",
   "metadata": {},
   "outputs": [],
   "source": [
    "def create_split_dfs(modality_df, train_ids, val_ids, test_ids):\n",
    "    train_df = modality_df[modality_df['patientunitstayid'].isin(train_ids)]\n",
    "    assert len(train_df) == len(train_ids)\n",
    "    train_df = train_df.sort_values(by='patientunitstayid')\n",
    "    \n",
    "    val_df = modality_df[modality_df['patientunitstayid'].isin(val_ids)]\n",
    "    assert len(val_df) == len(val_ids)\n",
    "    val_df = val_df.sort_values(by='patientunitstayid')\n",
    "    \n",
    "    test_df = modality_df[modality_df['patientunitstayid'].isin(test_ids)]\n",
    "    assert len(test_df) == len(test_ids)\n",
    "    test_df = test_df.sort_values(by='patientunitstayid')\n",
    "    \n",
    "    return train_df, val_df, test_df"
   ]
  },
  {
   "cell_type": "code",
   "execution_count": 9,
   "id": "bec9ac4d",
   "metadata": {},
   "outputs": [],
   "source": [
    "modnames= ['demographics', 'diagnosis', 'treatment', 'medication', 'lab', 'aps']\n",
    "split_dfs = []\n",
    "for m in mods:\n",
    "    split_dfs.append(create_split_dfs(m, stayid_train, stayid_val, stayid_test))"
   ]
  },
  {
   "cell_type": "code",
   "execution_count": 10,
   "id": "f10245c2",
   "metadata": {},
   "outputs": [],
   "source": [
    "# target_train = list(split_dfs[0][0]['los'])\n",
    "# target_val = list(split_dfs[0][1]['los'])\n",
    "# target_test = list(split_dfs[0][2]['los'])\n",
    "\n",
    "target_train = list(split_dfs[0][0]['hospitaldischargestatus'])\n",
    "target_val = list(split_dfs[0][1]['hospitaldischargestatus'])\n",
    "target_test = list(split_dfs[0][2]['hospitaldischargestatus'])"
   ]
  },
  {
   "cell_type": "code",
   "execution_count": 11,
   "id": "9097e194",
   "metadata": {},
   "outputs": [],
   "source": [
    "# add 'target' column\n",
    "for mod in split_dfs:\n",
    "    mod[0]['target'] = target_train\n",
    "    mod[1]['target'] = target_val\n",
    "    mod[2]['target'] = target_test"
   ]
  },
  {
   "cell_type": "code",
   "execution_count": 12,
   "id": "e32497f1",
   "metadata": {},
   "outputs": [],
   "source": [
    "output_path = f'{save_path}/by_modality/{TASK}/splits'\n",
    "if not os.path.exists(output_path):\n",
    "    os.makedirs(output_path)\n",
    "for i, (name, mod) in enumerate(zip(modnames, split_dfs)):\n",
    "    train_df = mod[0]\n",
    "    val_df = mod[1]\n",
    "    test_df = mod[2]\n",
    "    train_df.to_csv(os.path.join(output_path, f'{i+1}_{name}_train.csv'))\n",
    "    val_df.to_csv(os.path.join(output_path, f'{i+1}_{name}_val.csv'))\n",
    "    test_df.to_csv(os.path.join(output_path, f'{i+1}_{name}_test.csv'))"
   ]
  },
  {
   "cell_type": "markdown",
   "id": "97e58a5a",
   "metadata": {},
   "source": [
    "---"
   ]
  }
 ],
 "metadata": {
  "kernelspec": {
   "display_name": "Python 3 (ipykernel)",
   "language": "python",
   "name": "python3"
  },
  "language_info": {
   "codemirror_mode": {
    "name": "ipython",
    "version": 3
   },
   "file_extension": ".py",
   "mimetype": "text/x-python",
   "name": "python",
   "nbconvert_exporter": "python",
   "pygments_lexer": "ipython3",
   "version": "3.11.5"
  }
 },
 "nbformat": 4,
 "nbformat_minor": 5
}
