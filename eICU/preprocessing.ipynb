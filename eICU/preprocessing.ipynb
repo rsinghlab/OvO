{
 "cells": [
  {
   "cell_type": "code",
   "execution_count": 1,
   "id": "c5716b6c",
   "metadata": {},
   "outputs": [],
   "source": [
    "import pandas as pd\n",
    "import os\n",
    "import numpy as np\n",
    "import matplotlib.pyplot as plt"
   ]
  },
  {
   "cell_type": "code",
   "execution_count": 2,
   "id": "fd53c3ac",
   "metadata": {},
   "outputs": [],
   "source": [
    "path_to_your_data = \"\"\n",
    "\n",
    "tables_used = ['patient', 'diagnosis', 'treatment', 'medication', 'lab', 'apacheApsVar']\n",
    "patient_path = path_to_your_data + '/patient.csv'\n",
    "diagnosis_path = path_to_your_data + '/diagnosis.csv'\n",
    "treatment_path = path_to_your_data + '/treatment.csv'\n",
    "medication_path = path_to_your_data + '/medication.csv'\n",
    "lab_path = path_to_your_data + '/lab.csv'\n",
    "apache_aps_path = path_to_your_data + '/apacheApsVar.csv'\n"
   ]
  },
  {
   "cell_type": "markdown",
   "id": "993a2a4f",
   "metadata": {},
   "source": [
    "### Read patient data"
   ]
  },
  {
   "cell_type": "code",
   "execution_count": 3,
   "id": "48ebf54a",
   "metadata": {},
   "outputs": [],
   "source": [
    "patient = pd.read_csv(patient_path)"
   ]
  },
  {
   "cell_type": "markdown",
   "id": "e1c8986c",
   "metadata": {},
   "source": [
    "We can use the 'hospitaldischargestatus' column for survival target variables"
   ]
  },
  {
   "cell_type": "code",
   "execution_count": 4,
   "id": "2ee958b8",
   "metadata": {
    "scrolled": true
   },
   "outputs": [
    {
     "data": {
      "text/plain": [
       "hospitaldischargestatus\n",
       "Alive      181104\n",
       "Expired     18004\n",
       "Name: count, dtype: int64"
      ]
     },
     "execution_count": 4,
     "metadata": {},
     "output_type": "execute_result"
    }
   ],
   "source": [
    "# \"survival status\" -- look at the class imbalance\n",
    "patient['hospitaldischargestatus'].value_counts()"
   ]
  },
  {
   "cell_type": "code",
   "execution_count": 8,
   "id": "0c15b0ac",
   "metadata": {},
   "outputs": [
    {
     "name": "stdout",
     "output_type": "stream",
     "text": [
      "After filtering patients NAs, left with 196848 stays\n",
      "After filtering patients with age over 89, left with 189936 stays\n",
      "After filtering patients with age under 18, left with 189429 stays\n"
     ]
    }
   ],
   "source": [
    "# note that we are keeping the patientunitstayid from the first ICU visit\n",
    "cols_to_keep = ['patientunitstayid', 'uniquepid', 'age', 'gender', 'ethnicity', \\\n",
    "                'los', 'hospitaldischargestatus']\n",
    "patient_pp = patient[cols_to_keep].dropna()\n",
    "print(f\"After filtering patients NAs, left with {len(patient_pp)} stays\")\n",
    "# filter out patients with age over 89\n",
    "patient_pp = patient_pp.loc[(patient_pp['age'] != \"> 89\")]\n",
    "print(f\"After filtering patients with age over 89, left with {len(patient_pp)} stays\")\n",
    "# convert to numeric\n",
    "patient_pp['age'] = patient_pp['age'].astype(int)\n",
    "# filter out patients with age less than 18\n",
    "patient_pp = patient_pp.loc[(patient_pp['age'] >= 18)]\n",
    "print(f\"After filtering patients with age under 18, left with {len(patient_pp)} stays\")\n"
   ]
  },
  {
   "cell_type": "markdown",
   "id": "fce18f8d",
   "metadata": {},
   "source": [
    "#### SURVIVAL TASK"
   ]
  },
  {
   "cell_type": "code",
   "execution_count": 13,
   "id": "e26fd233",
   "metadata": {},
   "outputs": [],
   "source": [
    "# categorical variables\n",
    "categorical_vars = ['gender', 'ethnicity']\n",
    "continuous_vars = ['age', 'hospitaldischargestatus']\n",
    "id_vars = ['patientunitstayid', 'uniquepid']\n",
    "patient_pp_survival = pd.concat([patient_pp[id_vars], \\\n",
    "               patient_pp[continuous_vars], \\\n",
    "               pd.get_dummies(patient_pp[categorical_vars])], axis = 1)\n",
    "patient_pp_survival['hospitaldischargestatus'] = patient_pp_survival['hospitaldischargestatus'].map(\\\n",
    "                                                                            {\"Expired\": 1, \"Alive\": 0})"
   ]
  },
  {
   "cell_type": "code",
   "execution_count": 14,
   "id": "55ebf2b1",
   "metadata": {},
   "outputs": [
    {
     "data": {
      "text/plain": [
       "hospitaldischargestatus\n",
       "0    165775\n",
       "1     14766\n",
       "Name: count, dtype: int64"
      ]
     },
     "execution_count": 14,
     "metadata": {},
     "output_type": "execute_result"
    }
   ],
   "source": [
    "patient_pp_survival['hospitaldischargestatus'].value_counts()"
   ]
  },
  {
   "cell_type": "code",
   "execution_count": 15,
   "id": "cb0dbb30",
   "metadata": {},
   "outputs": [],
   "source": [
    "# mortality task\n",
    "save_path = \"\"\n",
    "\n",
    "mortality_task_files = save_path + 'by_modality/mortality_task'\n",
    "patient_pp_survival.to_csv(os.path.join(mortality_task_files, \"modality1_demographics.csv\"))"
   ]
  },
  {
   "cell_type": "markdown",
   "id": "1da87289",
   "metadata": {},
   "source": [
    "---"
   ]
  },
  {
   "cell_type": "markdown",
   "id": "c5cc1efe",
   "metadata": {},
   "source": [
    "### Determine modalities:\n",
    "(from paper) \"eICU (Pollard et al., 2018) covers 431K visits for 180K\n",
    "patients admitted to the ICU in the Beth Israel Deaconess Medical Center. We use demographics (age, gender, and ethnicity),,\n",
    "diagnosis, procedure, medication, lab values, and vital signals as input modalities\" \"We extract data from the **patient, diagnosis, treatment, medication, lab, and apacheApsVar** tables. Diagnosis, treatment, and medication are recorded as medical codes. We select our cohorts by filtering out visits of patients younger than 18 or older than 89 years old, visits that last longer than 10 days, and visits lasting shorter than 12 hours, as the predictions are made 12 hours after admission.\""
   ]
  },
  {
   "cell_type": "code",
   "execution_count": 16,
   "id": "4571ff22",
   "metadata": {},
   "outputs": [],
   "source": [
    "def string_parsing(df, col_to_parse, thresh=0.05):\n",
    "    df_nona = df[df[col_to_parse].notna()]\n",
    "    # for each patient stay id, combine all instances of column and put them in a string with | dividers\n",
    "    result_df = df_nona.groupby('patientunitstayid').agg({\n",
    "        col_to_parse : lambda x: \"|\".join(list(x)),\n",
    "    }).reset_index()\n",
    "    print(\"Grouped by patient unit stay id.\")\n",
    "    # get unique values between | dividers\n",
    "    result_df[col_to_parse] = result_df[col_to_parse].apply(lambda x: \"|\".join(list(set(x.split(\"|\")))))\n",
    "    # get dummies\n",
    "    dummies = result_df[col_to_parse].str.get_dummies(\"|\")\n",
    "    print(\"Derived dummies.\")\n",
    "    # filter dummies with low frequencies\n",
    "    sums = dummies.sum()\n",
    "    # total rows\n",
    "    total = len(dummies)\n",
    "    # keep drugs present in at least 5% of visits\n",
    "    threshold= (int)(0.05*total)\n",
    "    dummies_keep = sums[sums > threshold]\n",
    "    dummies = dummies[dummies_keep.index]\n",
    "    print(\"Filtered dummies.\")\n",
    "    # concat to original ids\n",
    "    df_pp = pd.concat([result_df['patientunitstayid'], dummies], axis=1)\n",
    "    print(\"Preprocessing completing.\")\n",
    "    return df_pp\n",
    "    "
   ]
  },
  {
   "cell_type": "markdown",
   "id": "27618b09",
   "metadata": {},
   "source": [
    "#### Diagnosis table"
   ]
  },
  {
   "cell_type": "code",
   "execution_count": 17,
   "id": "8a5cf7c3",
   "metadata": {
    "scrolled": true
   },
   "outputs": [
    {
     "name": "stdout",
     "output_type": "stream",
     "text": [
      "Shape: (2710672, 7)\n"
     ]
    },
    {
     "data": {
      "text/html": [
       "<div>\n",
       "<style scoped>\n",
       "    .dataframe tbody tr th:only-of-type {\n",
       "        vertical-align: middle;\n",
       "    }\n",
       "\n",
       "    .dataframe tbody tr th {\n",
       "        vertical-align: top;\n",
       "    }\n",
       "\n",
       "    .dataframe thead th {\n",
       "        text-align: right;\n",
       "    }\n",
       "</style>\n",
       "<table border=\"1\" class=\"dataframe\">\n",
       "  <thead>\n",
       "    <tr style=\"text-align: right;\">\n",
       "      <th></th>\n",
       "      <th>diagnosisid</th>\n",
       "      <th>patientunitstayid</th>\n",
       "      <th>activeupondischarge</th>\n",
       "      <th>diagnosisoffset</th>\n",
       "      <th>diagnosisstring</th>\n",
       "      <th>icd9code</th>\n",
       "      <th>diagnosispriority</th>\n",
       "    </tr>\n",
       "  </thead>\n",
       "  <tbody>\n",
       "    <tr>\n",
       "      <th>0</th>\n",
       "      <td>4222318</td>\n",
       "      <td>141168</td>\n",
       "      <td>False</td>\n",
       "      <td>72</td>\n",
       "      <td>cardiovascular|chest pain / ASHD|coronary arte...</td>\n",
       "      <td>414.00, I25.10</td>\n",
       "      <td>Other</td>\n",
       "    </tr>\n",
       "    <tr>\n",
       "      <th>1</th>\n",
       "      <td>3370568</td>\n",
       "      <td>141168</td>\n",
       "      <td>True</td>\n",
       "      <td>118</td>\n",
       "      <td>cardiovascular|ventricular disorders|cardiomyo...</td>\n",
       "      <td>NaN</td>\n",
       "      <td>Other</td>\n",
       "    </tr>\n",
       "    <tr>\n",
       "      <th>2</th>\n",
       "      <td>4160941</td>\n",
       "      <td>141168</td>\n",
       "      <td>False</td>\n",
       "      <td>72</td>\n",
       "      <td>pulmonary|disorders of the airways|COPD</td>\n",
       "      <td>491.20, J44.9</td>\n",
       "      <td>Other</td>\n",
       "    </tr>\n",
       "    <tr>\n",
       "      <th>3</th>\n",
       "      <td>4103261</td>\n",
       "      <td>141168</td>\n",
       "      <td>True</td>\n",
       "      <td>118</td>\n",
       "      <td>pulmonary|disorders of the airways|COPD</td>\n",
       "      <td>491.20, J44.9</td>\n",
       "      <td>Other</td>\n",
       "    </tr>\n",
       "    <tr>\n",
       "      <th>4</th>\n",
       "      <td>3545241</td>\n",
       "      <td>141168</td>\n",
       "      <td>True</td>\n",
       "      <td>118</td>\n",
       "      <td>cardiovascular|ventricular disorders|congestiv...</td>\n",
       "      <td>428.0, I50.9</td>\n",
       "      <td>Other</td>\n",
       "    </tr>\n",
       "  </tbody>\n",
       "</table>\n",
       "</div>"
      ],
      "text/plain": [
       "   diagnosisid  patientunitstayid  activeupondischarge  diagnosisoffset  \\\n",
       "0      4222318             141168                False               72   \n",
       "1      3370568             141168                 True              118   \n",
       "2      4160941             141168                False               72   \n",
       "3      4103261             141168                 True              118   \n",
       "4      3545241             141168                 True              118   \n",
       "\n",
       "                                     diagnosisstring        icd9code  \\\n",
       "0  cardiovascular|chest pain / ASHD|coronary arte...  414.00, I25.10   \n",
       "1  cardiovascular|ventricular disorders|cardiomyo...             NaN   \n",
       "2            pulmonary|disorders of the airways|COPD   491.20, J44.9   \n",
       "3            pulmonary|disorders of the airways|COPD   491.20, J44.9   \n",
       "4  cardiovascular|ventricular disorders|congestiv...    428.0, I50.9   \n",
       "\n",
       "  diagnosispriority  \n",
       "0             Other  \n",
       "1             Other  \n",
       "2             Other  \n",
       "3             Other  \n",
       "4             Other  "
      ]
     },
     "execution_count": 17,
     "metadata": {},
     "output_type": "execute_result"
    }
   ],
   "source": [
    "diagnosis = pd.read_csv(diagnosis_path)\n",
    "print(f\"Shape: {diagnosis.shape}\")\n",
    "diagnosis.head()"
   ]
  },
  {
   "cell_type": "code",
   "execution_count": 18,
   "id": "976aae91",
   "metadata": {},
   "outputs": [],
   "source": [
    "# OPTIONAL: keep entries made within the first 12 hours\n",
    "# diagnosis = diagnosis[diagnosis['diagnosisoffset'] < (12*60)]"
   ]
  },
  {
   "cell_type": "code",
   "execution_count": 19,
   "id": "b2fd2f6d",
   "metadata": {},
   "outputs": [
    {
     "name": "stdout",
     "output_type": "stream",
     "text": [
      "Grouped by patient unit stay id.\n",
      "Derived dummies.\n",
      "Filtered dummies.\n",
      "Preprocessing completing.\n"
     ]
    }
   ],
   "source": [
    "diagnosis_pp = string_parsing(diagnosis, 'diagnosisstring')"
   ]
  },
  {
   "cell_type": "code",
   "execution_count": 20,
   "id": "39007677",
   "metadata": {},
   "outputs": [],
   "source": [
    "diagnosis_pp.to_csv(save_path + 'by_modality/mortality_task/modality2_diagnosis.csv')"
   ]
  },
  {
   "cell_type": "markdown",
   "id": "00a7e3fc",
   "metadata": {},
   "source": [
    "#### Treatment table"
   ]
  },
  {
   "cell_type": "code",
   "execution_count": 21,
   "id": "651631ee",
   "metadata": {},
   "outputs": [
    {
     "name": "stdout",
     "output_type": "stream",
     "text": [
      "Shape: (3688745, 5)\n"
     ]
    },
    {
     "data": {
      "text/html": [
       "<div>\n",
       "<style scoped>\n",
       "    .dataframe tbody tr th:only-of-type {\n",
       "        vertical-align: middle;\n",
       "    }\n",
       "\n",
       "    .dataframe tbody tr th {\n",
       "        vertical-align: top;\n",
       "    }\n",
       "\n",
       "    .dataframe thead th {\n",
       "        text-align: right;\n",
       "    }\n",
       "</style>\n",
       "<table border=\"1\" class=\"dataframe\">\n",
       "  <thead>\n",
       "    <tr style=\"text-align: right;\">\n",
       "      <th></th>\n",
       "      <th>treatmentid</th>\n",
       "      <th>patientunitstayid</th>\n",
       "      <th>treatmentoffset</th>\n",
       "      <th>treatmentstring</th>\n",
       "      <th>activeupondischarge</th>\n",
       "    </tr>\n",
       "  </thead>\n",
       "  <tbody>\n",
       "    <tr>\n",
       "      <th>0</th>\n",
       "      <td>8399138</td>\n",
       "      <td>242040</td>\n",
       "      <td>198</td>\n",
       "      <td>cardiovascular|hypertension|angiotensin II rec...</td>\n",
       "      <td>False</td>\n",
       "    </tr>\n",
       "    <tr>\n",
       "      <th>1</th>\n",
       "      <td>8626134</td>\n",
       "      <td>242040</td>\n",
       "      <td>198</td>\n",
       "      <td>cardiovascular|myocardial ischemia / infarctio...</td>\n",
       "      <td>False</td>\n",
       "    </tr>\n",
       "    <tr>\n",
       "      <th>2</th>\n",
       "      <td>8517569</td>\n",
       "      <td>242040</td>\n",
       "      <td>198</td>\n",
       "      <td>infectious diseases|medications|therapeutic an...</td>\n",
       "      <td>False</td>\n",
       "    </tr>\n",
       "    <tr>\n",
       "      <th>3</th>\n",
       "      <td>9597686</td>\n",
       "      <td>242040</td>\n",
       "      <td>616</td>\n",
       "      <td>cardiovascular|non-operative procedures|diagno...</td>\n",
       "      <td>False</td>\n",
       "    </tr>\n",
       "    <tr>\n",
       "      <th>4</th>\n",
       "      <td>9334096</td>\n",
       "      <td>242040</td>\n",
       "      <td>618</td>\n",
       "      <td>infectious diseases|medications|therapeutic an...</td>\n",
       "      <td>True</td>\n",
       "    </tr>\n",
       "  </tbody>\n",
       "</table>\n",
       "</div>"
      ],
      "text/plain": [
       "   treatmentid  patientunitstayid  treatmentoffset  \\\n",
       "0      8399138             242040              198   \n",
       "1      8626134             242040              198   \n",
       "2      8517569             242040              198   \n",
       "3      9597686             242040              616   \n",
       "4      9334096             242040              618   \n",
       "\n",
       "                                     treatmentstring  activeupondischarge  \n",
       "0  cardiovascular|hypertension|angiotensin II rec...                False  \n",
       "1  cardiovascular|myocardial ischemia / infarctio...                False  \n",
       "2  infectious diseases|medications|therapeutic an...                False  \n",
       "3  cardiovascular|non-operative procedures|diagno...                False  \n",
       "4  infectious diseases|medications|therapeutic an...                 True  "
      ]
     },
     "execution_count": 21,
     "metadata": {},
     "output_type": "execute_result"
    }
   ],
   "source": [
    "treatment = pd.read_csv(treatment_path)\n",
    "print(f\"Shape: {treatment.shape}\")\n",
    "treatment.head()"
   ]
  },
  {
   "cell_type": "code",
   "execution_count": 22,
   "id": "7126b9bb",
   "metadata": {},
   "outputs": [],
   "source": [
    "# OPTIONAL: keep entries made within the first 12 hours\n",
    "# treatment = treatment[treatment['treatmentoffset'] < (12*60)]"
   ]
  },
  {
   "cell_type": "code",
   "execution_count": 23,
   "id": "df032f1d",
   "metadata": {},
   "outputs": [
    {
     "name": "stdout",
     "output_type": "stream",
     "text": [
      "Grouped by patient unit stay id.\n",
      "Derived dummies.\n",
      "Filtered dummies.\n",
      "Preprocessing completing.\n"
     ]
    }
   ],
   "source": [
    "treatment_pp = string_parsing(treatment, 'treatmentstring')"
   ]
  },
  {
   "cell_type": "code",
   "execution_count": 24,
   "id": "f6a8e287",
   "metadata": {},
   "outputs": [],
   "source": [
    "treatment_pp.to_csv(save_path + 'by_modality/mortality_task/modality3_treatment.csv')"
   ]
  },
  {
   "cell_type": "markdown",
   "id": "0af86d0a",
   "metadata": {},
   "source": [
    "#### Medication table"
   ]
  },
  {
   "cell_type": "code",
   "execution_count": 25,
   "id": "c157f5f2",
   "metadata": {},
   "outputs": [
    {
     "name": "stderr",
     "output_type": "stream",
     "text": [
      "/tmp/ipykernel_2526840/1921665291.py:1: DtypeWarning: Columns (11) have mixed types. Specify dtype option on import or set low_memory=False.\n",
      "  medication = pd.read_csv(medication_path)\n"
     ]
    },
    {
     "name": "stdout",
     "output_type": "stream",
     "text": [
      "(7301853, 15)\n"
     ]
    },
    {
     "data": {
      "text/html": [
       "<div>\n",
       "<style scoped>\n",
       "    .dataframe tbody tr th:only-of-type {\n",
       "        vertical-align: middle;\n",
       "    }\n",
       "\n",
       "    .dataframe tbody tr th {\n",
       "        vertical-align: top;\n",
       "    }\n",
       "\n",
       "    .dataframe thead th {\n",
       "        text-align: right;\n",
       "    }\n",
       "</style>\n",
       "<table border=\"1\" class=\"dataframe\">\n",
       "  <thead>\n",
       "    <tr style=\"text-align: right;\">\n",
       "      <th></th>\n",
       "      <th>medicationid</th>\n",
       "      <th>patientunitstayid</th>\n",
       "      <th>drugorderoffset</th>\n",
       "      <th>drugstartoffset</th>\n",
       "      <th>drugivadmixture</th>\n",
       "      <th>drugordercancelled</th>\n",
       "      <th>drugname</th>\n",
       "      <th>drughiclseqno</th>\n",
       "      <th>dosage</th>\n",
       "      <th>routeadmin</th>\n",
       "      <th>frequency</th>\n",
       "      <th>loadingdose</th>\n",
       "      <th>prn</th>\n",
       "      <th>drugstopoffset</th>\n",
       "      <th>gtc</th>\n",
       "    </tr>\n",
       "  </thead>\n",
       "  <tbody>\n",
       "    <tr>\n",
       "      <th>0</th>\n",
       "      <td>7426715</td>\n",
       "      <td>141168</td>\n",
       "      <td>309</td>\n",
       "      <td>666</td>\n",
       "      <td>No</td>\n",
       "      <td>No</td>\n",
       "      <td>METOPROLOL TARTRATE 25 MG PO TABS</td>\n",
       "      <td>2102.0</td>\n",
       "      <td>25 3</td>\n",
       "      <td>PO</td>\n",
       "      <td>Q12H SCH</td>\n",
       "      <td>NaN</td>\n",
       "      <td>No</td>\n",
       "      <td>1826</td>\n",
       "      <td>0</td>\n",
       "    </tr>\n",
       "    <tr>\n",
       "      <th>1</th>\n",
       "      <td>9643232</td>\n",
       "      <td>141168</td>\n",
       "      <td>1847</td>\n",
       "      <td>1832</td>\n",
       "      <td>No</td>\n",
       "      <td>No</td>\n",
       "      <td>3 ML  -  IPRATROPIUM-ALBUTEROL 0.5-2.5 (3) MG/...</td>\n",
       "      <td>NaN</td>\n",
       "      <td>3 1</td>\n",
       "      <td>NEBULIZATION</td>\n",
       "      <td>Q4H Resp PRN</td>\n",
       "      <td>NaN</td>\n",
       "      <td>Yes</td>\n",
       "      <td>2047</td>\n",
       "      <td>0</td>\n",
       "    </tr>\n",
       "    <tr>\n",
       "      <th>2</th>\n",
       "      <td>10270090</td>\n",
       "      <td>141168</td>\n",
       "      <td>296</td>\n",
       "      <td>1386</td>\n",
       "      <td>No</td>\n",
       "      <td>No</td>\n",
       "      <td>ASPIRIN EC 81 MG PO TBEC</td>\n",
       "      <td>1820.0</td>\n",
       "      <td>81 3</td>\n",
       "      <td>PO</td>\n",
       "      <td>Daily</td>\n",
       "      <td>NaN</td>\n",
       "      <td>No</td>\n",
       "      <td>2390</td>\n",
       "      <td>0</td>\n",
       "    </tr>\n",
       "    <tr>\n",
       "      <th>3</th>\n",
       "      <td>9496768</td>\n",
       "      <td>141168</td>\n",
       "      <td>2048</td>\n",
       "      <td>2029</td>\n",
       "      <td>No</td>\n",
       "      <td>No</td>\n",
       "      <td>3 ML  -  IPRATROPIUM-ALBUTEROL 0.5-2.5 (3) MG/...</td>\n",
       "      <td>NaN</td>\n",
       "      <td>3 1</td>\n",
       "      <td>NEBULIZATION</td>\n",
       "      <td>Q4H Resp PRN</td>\n",
       "      <td>NaN</td>\n",
       "      <td>Yes</td>\n",
       "      <td>2390</td>\n",
       "      <td>0</td>\n",
       "    </tr>\n",
       "    <tr>\n",
       "      <th>4</th>\n",
       "      <td>11259680</td>\n",
       "      <td>141168</td>\n",
       "      <td>117</td>\n",
       "      <td>246</td>\n",
       "      <td>No</td>\n",
       "      <td>No</td>\n",
       "      <td>ENOXAPARIN SODIUM 40 MG/0.4ML SC SOLN</td>\n",
       "      <td>NaN</td>\n",
       "      <td>40 3</td>\n",
       "      <td>SC</td>\n",
       "      <td>Daily</td>\n",
       "      <td>NaN</td>\n",
       "      <td>No</td>\n",
       "      <td>1721</td>\n",
       "      <td>0</td>\n",
       "    </tr>\n",
       "  </tbody>\n",
       "</table>\n",
       "</div>"
      ],
      "text/plain": [
       "   medicationid  patientunitstayid  drugorderoffset  drugstartoffset  \\\n",
       "0       7426715             141168              309              666   \n",
       "1       9643232             141168             1847             1832   \n",
       "2      10270090             141168              296             1386   \n",
       "3       9496768             141168             2048             2029   \n",
       "4      11259680             141168              117              246   \n",
       "\n",
       "  drugivadmixture drugordercancelled  \\\n",
       "0              No                 No   \n",
       "1              No                 No   \n",
       "2              No                 No   \n",
       "3              No                 No   \n",
       "4              No                 No   \n",
       "\n",
       "                                            drugname  drughiclseqno dosage  \\\n",
       "0                  METOPROLOL TARTRATE 25 MG PO TABS         2102.0   25 3   \n",
       "1  3 ML  -  IPRATROPIUM-ALBUTEROL 0.5-2.5 (3) MG/...            NaN    3 1   \n",
       "2                           ASPIRIN EC 81 MG PO TBEC         1820.0   81 3   \n",
       "3  3 ML  -  IPRATROPIUM-ALBUTEROL 0.5-2.5 (3) MG/...            NaN    3 1   \n",
       "4              ENOXAPARIN SODIUM 40 MG/0.4ML SC SOLN            NaN   40 3   \n",
       "\n",
       "     routeadmin     frequency loadingdose  prn  drugstopoffset  gtc  \n",
       "0            PO      Q12H SCH         NaN   No            1826    0  \n",
       "1  NEBULIZATION  Q4H Resp PRN         NaN  Yes            2047    0  \n",
       "2            PO         Daily         NaN   No            2390    0  \n",
       "3  NEBULIZATION  Q4H Resp PRN         NaN  Yes            2390    0  \n",
       "4            SC         Daily         NaN   No            1721    0  "
      ]
     },
     "execution_count": 25,
     "metadata": {},
     "output_type": "execute_result"
    }
   ],
   "source": [
    "medication = pd.read_csv(medication_path)\n",
    "print(medication.shape)\n",
    "medication.head()"
   ]
  },
  {
   "cell_type": "code",
   "execution_count": 26,
   "id": "04629b14",
   "metadata": {},
   "outputs": [],
   "source": [
    "# OPTIONAL: keep entries made within the first 12 hours\n",
    "# medication = medication[medication['drugstartoffset'] < (12*60)]"
   ]
  },
  {
   "cell_type": "code",
   "execution_count": 27,
   "id": "69dc298f",
   "metadata": {},
   "outputs": [
    {
     "name": "stdout",
     "output_type": "stream",
     "text": [
      "Grouped by patient unit stay id.\n",
      "Derived dummies.\n",
      "Filtered dummies.\n",
      "Preprocessing completing.\n"
     ]
    }
   ],
   "source": [
    "medication_pp = string_parsing(medication, \"drugname\")"
   ]
  },
  {
   "cell_type": "code",
   "execution_count": 28,
   "id": "c775ba19",
   "metadata": {},
   "outputs": [],
   "source": [
    "medication_pp.to_csv(save_path + 'by_modality/mortality_task/modality4_medication.csv')"
   ]
  },
  {
   "cell_type": "markdown",
   "id": "06072734",
   "metadata": {},
   "source": [
    "#### Lab table"
   ]
  },
  {
   "cell_type": "code",
   "execution_count": 29,
   "id": "d2b0a273",
   "metadata": {},
   "outputs": [
    {
     "name": "stdout",
     "output_type": "stream",
     "text": [
      "(39132531, 10)\n"
     ]
    },
    {
     "data": {
      "text/html": [
       "<div>\n",
       "<style scoped>\n",
       "    .dataframe tbody tr th:only-of-type {\n",
       "        vertical-align: middle;\n",
       "    }\n",
       "\n",
       "    .dataframe tbody tr th {\n",
       "        vertical-align: top;\n",
       "    }\n",
       "\n",
       "    .dataframe thead th {\n",
       "        text-align: right;\n",
       "    }\n",
       "</style>\n",
       "<table border=\"1\" class=\"dataframe\">\n",
       "  <thead>\n",
       "    <tr style=\"text-align: right;\">\n",
       "      <th></th>\n",
       "      <th>labid</th>\n",
       "      <th>patientunitstayid</th>\n",
       "      <th>labresultoffset</th>\n",
       "      <th>labtypeid</th>\n",
       "      <th>labname</th>\n",
       "      <th>labresult</th>\n",
       "      <th>labresulttext</th>\n",
       "      <th>labmeasurenamesystem</th>\n",
       "      <th>labmeasurenameinterface</th>\n",
       "      <th>labresultrevisedoffset</th>\n",
       "    </tr>\n",
       "  </thead>\n",
       "  <tbody>\n",
       "    <tr>\n",
       "      <th>0</th>\n",
       "      <td>52307161</td>\n",
       "      <td>141168</td>\n",
       "      <td>2026</td>\n",
       "      <td>3</td>\n",
       "      <td>fibrinogen</td>\n",
       "      <td>177.0</td>\n",
       "      <td>177</td>\n",
       "      <td>mg/dL</td>\n",
       "      <td>mg/dL</td>\n",
       "      <td>2219</td>\n",
       "    </tr>\n",
       "    <tr>\n",
       "      <th>1</th>\n",
       "      <td>50363251</td>\n",
       "      <td>141168</td>\n",
       "      <td>1133</td>\n",
       "      <td>3</td>\n",
       "      <td>PT - INR</td>\n",
       "      <td>2.5</td>\n",
       "      <td>2.5</td>\n",
       "      <td>ratio</td>\n",
       "      <td>NaN</td>\n",
       "      <td>1208</td>\n",
       "    </tr>\n",
       "    <tr>\n",
       "      <th>2</th>\n",
       "      <td>49149139</td>\n",
       "      <td>141168</td>\n",
       "      <td>2026</td>\n",
       "      <td>1</td>\n",
       "      <td>magnesium</td>\n",
       "      <td>2.0</td>\n",
       "      <td>2.0</td>\n",
       "      <td>mg/dL</td>\n",
       "      <td>mg/dL</td>\n",
       "      <td>2090</td>\n",
       "    </tr>\n",
       "    <tr>\n",
       "      <th>3</th>\n",
       "      <td>50363250</td>\n",
       "      <td>141168</td>\n",
       "      <td>1133</td>\n",
       "      <td>3</td>\n",
       "      <td>PT</td>\n",
       "      <td>26.6</td>\n",
       "      <td>26.6</td>\n",
       "      <td>sec</td>\n",
       "      <td>sec</td>\n",
       "      <td>1208</td>\n",
       "    </tr>\n",
       "    <tr>\n",
       "      <th>4</th>\n",
       "      <td>66695374</td>\n",
       "      <td>141168</td>\n",
       "      <td>2141</td>\n",
       "      <td>7</td>\n",
       "      <td>pH</td>\n",
       "      <td>7.2</td>\n",
       "      <td>7.20</td>\n",
       "      <td>NaN</td>\n",
       "      <td>Units</td>\n",
       "      <td>2155</td>\n",
       "    </tr>\n",
       "  </tbody>\n",
       "</table>\n",
       "</div>"
      ],
      "text/plain": [
       "      labid  patientunitstayid  labresultoffset  labtypeid     labname  \\\n",
       "0  52307161             141168             2026          3  fibrinogen   \n",
       "1  50363251             141168             1133          3    PT - INR   \n",
       "2  49149139             141168             2026          1   magnesium   \n",
       "3  50363250             141168             1133          3          PT   \n",
       "4  66695374             141168             2141          7          pH   \n",
       "\n",
       "   labresult labresulttext labmeasurenamesystem labmeasurenameinterface  \\\n",
       "0      177.0           177                mg/dL                   mg/dL   \n",
       "1        2.5           2.5                ratio                     NaN   \n",
       "2        2.0           2.0                mg/dL                   mg/dL   \n",
       "3       26.6          26.6                  sec                     sec   \n",
       "4        7.2          7.20                  NaN                   Units   \n",
       "\n",
       "   labresultrevisedoffset  \n",
       "0                    2219  \n",
       "1                    1208  \n",
       "2                    2090  \n",
       "3                    1208  \n",
       "4                    2155  "
      ]
     },
     "execution_count": 29,
     "metadata": {},
     "output_type": "execute_result"
    }
   ],
   "source": [
    "lab = pd.read_csv(lab_path)\n",
    "print(lab.shape)\n",
    "lab.head()"
   ]
  },
  {
   "cell_type": "code",
   "execution_count": 30,
   "id": "3cf78a97",
   "metadata": {},
   "outputs": [],
   "source": [
    "# OPTIONAL: keep entries made within the first 12 hours\n",
    "# lab = lab[lab['labresultoffset'] < (12*60)]"
   ]
  },
  {
   "cell_type": "code",
   "execution_count": 31,
   "id": "09bf8979",
   "metadata": {},
   "outputs": [
    {
     "data": {
      "text/plain": [
       "labname\n",
       "bedside glucose         3175835\n",
       "potassium               1493261\n",
       "sodium                  1393205\n",
       "glucose                 1319496\n",
       "Hgb                     1298708\n",
       "                         ...   \n",
       "HSV 1&2 IgG AB titer         12\n",
       "NAPA                         10\n",
       "Procainamide                 10\n",
       "HIV 1&2 AB                    7\n",
       "RPR titer                     3\n",
       "Name: count, Length: 158, dtype: int64"
      ]
     },
     "execution_count": 31,
     "metadata": {},
     "output_type": "execute_result"
    }
   ],
   "source": [
    "lab_types = lab['labname'].value_counts()\n",
    "lab_types"
   ]
  },
  {
   "cell_type": "code",
   "execution_count": 32,
   "id": "3d41f696",
   "metadata": {},
   "outputs": [],
   "source": [
    "# we keep lab result types with at least 10000 instances in our dataset\n",
    "# other lab results likely will be too sparse\n",
    "lab_types_to_keep = lab_types[lab_types > (10000)].index.to_list()\n",
    "lab_filtered = lab[lab['labname'].isin(lab_types_to_keep)]"
   ]
  },
  {
   "cell_type": "code",
   "execution_count": 33,
   "id": "7a6c548e",
   "metadata": {},
   "outputs": [],
   "source": [
    "# group by patientunitstayid, then pivot on labname column, setting the values as lab result\n",
    "# for any duplicate lab result type for a stay, we sum the amounts (for ex. there were two glucose tests during \n",
    "# a patient stay, then we add the total glucose values) \n",
    "lab_pp = lab_filtered.pivot_table(index='patientunitstayid', columns='labname', \n",
    "                                    values='labresult', aggfunc='sum')"
   ]
  },
  {
   "cell_type": "code",
   "execution_count": 34,
   "id": "cd5fd609",
   "metadata": {},
   "outputs": [],
   "source": [
    "# all empty lab results we set as 0\n",
    "lab_pp = lab_pp.fillna(0).reset_index()"
   ]
  },
  {
   "cell_type": "code",
   "execution_count": 35,
   "id": "1b97df88",
   "metadata": {},
   "outputs": [],
   "source": [
    "lab_pp.to_csv(save_path + 'by_modality/mortality_task/modality5_lab.csv')"
   ]
  },
  {
   "cell_type": "markdown",
   "id": "b387252a",
   "metadata": {},
   "source": [
    "#### Apache table (Acute physiology scores)"
   ]
  },
  {
   "cell_type": "code",
   "execution_count": 36,
   "id": "6159046f",
   "metadata": {},
   "outputs": [
    {
     "name": "stdout",
     "output_type": "stream",
     "text": [
      "(171177, 26)\n"
     ]
    },
    {
     "data": {
      "text/html": [
       "<div>\n",
       "<style scoped>\n",
       "    .dataframe tbody tr th:only-of-type {\n",
       "        vertical-align: middle;\n",
       "    }\n",
       "\n",
       "    .dataframe tbody tr th {\n",
       "        vertical-align: top;\n",
       "    }\n",
       "\n",
       "    .dataframe thead th {\n",
       "        text-align: right;\n",
       "    }\n",
       "</style>\n",
       "<table border=\"1\" class=\"dataframe\">\n",
       "  <thead>\n",
       "    <tr style=\"text-align: right;\">\n",
       "      <th></th>\n",
       "      <th>apacheapsvarid</th>\n",
       "      <th>patientunitstayid</th>\n",
       "      <th>intubated</th>\n",
       "      <th>vent</th>\n",
       "      <th>dialysis</th>\n",
       "      <th>eyes</th>\n",
       "      <th>motor</th>\n",
       "      <th>verbal</th>\n",
       "      <th>meds</th>\n",
       "      <th>urine</th>\n",
       "      <th>...</th>\n",
       "      <th>ph</th>\n",
       "      <th>hematocrit</th>\n",
       "      <th>creatinine</th>\n",
       "      <th>albumin</th>\n",
       "      <th>pao2</th>\n",
       "      <th>pco2</th>\n",
       "      <th>bun</th>\n",
       "      <th>glucose</th>\n",
       "      <th>bilirubin</th>\n",
       "      <th>fio2</th>\n",
       "    </tr>\n",
       "  </thead>\n",
       "  <tbody>\n",
       "    <tr>\n",
       "      <th>0</th>\n",
       "      <td>2</td>\n",
       "      <td>141168</td>\n",
       "      <td>0</td>\n",
       "      <td>0</td>\n",
       "      <td>0</td>\n",
       "      <td>4</td>\n",
       "      <td>6</td>\n",
       "      <td>5</td>\n",
       "      <td>0</td>\n",
       "      <td>-1.0</td>\n",
       "      <td>...</td>\n",
       "      <td>-1.00</td>\n",
       "      <td>40.1</td>\n",
       "      <td>2.30</td>\n",
       "      <td>3.1</td>\n",
       "      <td>-1.0</td>\n",
       "      <td>-1.0</td>\n",
       "      <td>27.0</td>\n",
       "      <td>95.0</td>\n",
       "      <td>4.1</td>\n",
       "      <td>-1.0</td>\n",
       "    </tr>\n",
       "    <tr>\n",
       "      <th>1</th>\n",
       "      <td>2399659</td>\n",
       "      <td>141178</td>\n",
       "      <td>0</td>\n",
       "      <td>0</td>\n",
       "      <td>0</td>\n",
       "      <td>-1</td>\n",
       "      <td>-1</td>\n",
       "      <td>-1</td>\n",
       "      <td>-1</td>\n",
       "      <td>-1.0</td>\n",
       "      <td>...</td>\n",
       "      <td>-1.00</td>\n",
       "      <td>-1.0</td>\n",
       "      <td>-1.00</td>\n",
       "      <td>-1.0</td>\n",
       "      <td>-1.0</td>\n",
       "      <td>-1.0</td>\n",
       "      <td>-1.0</td>\n",
       "      <td>-1.0</td>\n",
       "      <td>-1.0</td>\n",
       "      <td>-1.0</td>\n",
       "    </tr>\n",
       "    <tr>\n",
       "      <th>2</th>\n",
       "      <td>167885</td>\n",
       "      <td>141194</td>\n",
       "      <td>0</td>\n",
       "      <td>0</td>\n",
       "      <td>0</td>\n",
       "      <td>3</td>\n",
       "      <td>6</td>\n",
       "      <td>4</td>\n",
       "      <td>0</td>\n",
       "      <td>-1.0</td>\n",
       "      <td>...</td>\n",
       "      <td>-1.00</td>\n",
       "      <td>27.4</td>\n",
       "      <td>2.51</td>\n",
       "      <td>2.3</td>\n",
       "      <td>-1.0</td>\n",
       "      <td>-1.0</td>\n",
       "      <td>31.0</td>\n",
       "      <td>168.0</td>\n",
       "      <td>0.4</td>\n",
       "      <td>-1.0</td>\n",
       "    </tr>\n",
       "    <tr>\n",
       "      <th>3</th>\n",
       "      <td>70691</td>\n",
       "      <td>141197</td>\n",
       "      <td>0</td>\n",
       "      <td>0</td>\n",
       "      <td>0</td>\n",
       "      <td>4</td>\n",
       "      <td>6</td>\n",
       "      <td>5</td>\n",
       "      <td>0</td>\n",
       "      <td>-1.0</td>\n",
       "      <td>...</td>\n",
       "      <td>-1.00</td>\n",
       "      <td>-1.0</td>\n",
       "      <td>-1.00</td>\n",
       "      <td>-1.0</td>\n",
       "      <td>-1.0</td>\n",
       "      <td>-1.0</td>\n",
       "      <td>-1.0</td>\n",
       "      <td>-1.0</td>\n",
       "      <td>-1.0</td>\n",
       "      <td>-1.0</td>\n",
       "    </tr>\n",
       "    <tr>\n",
       "      <th>4</th>\n",
       "      <td>2279689</td>\n",
       "      <td>141203</td>\n",
       "      <td>0</td>\n",
       "      <td>1</td>\n",
       "      <td>0</td>\n",
       "      <td>1</td>\n",
       "      <td>3</td>\n",
       "      <td>1</td>\n",
       "      <td>0</td>\n",
       "      <td>-1.0</td>\n",
       "      <td>...</td>\n",
       "      <td>7.45</td>\n",
       "      <td>36.9</td>\n",
       "      <td>0.56</td>\n",
       "      <td>-1.0</td>\n",
       "      <td>51.0</td>\n",
       "      <td>37.0</td>\n",
       "      <td>9.0</td>\n",
       "      <td>145.0</td>\n",
       "      <td>-1.0</td>\n",
       "      <td>100.0</td>\n",
       "    </tr>\n",
       "  </tbody>\n",
       "</table>\n",
       "<p>5 rows × 26 columns</p>\n",
       "</div>"
      ],
      "text/plain": [
       "   apacheapsvarid  patientunitstayid  intubated  vent  dialysis  eyes  motor  \\\n",
       "0               2             141168          0     0         0     4      6   \n",
       "1         2399659             141178          0     0         0    -1     -1   \n",
       "2          167885             141194          0     0         0     3      6   \n",
       "3           70691             141197          0     0         0     4      6   \n",
       "4         2279689             141203          0     1         0     1      3   \n",
       "\n",
       "   verbal  meds  urine  ...    ph  hematocrit  creatinine  albumin  pao2  \\\n",
       "0       5     0   -1.0  ... -1.00        40.1        2.30      3.1  -1.0   \n",
       "1      -1    -1   -1.0  ... -1.00        -1.0       -1.00     -1.0  -1.0   \n",
       "2       4     0   -1.0  ... -1.00        27.4        2.51      2.3  -1.0   \n",
       "3       5     0   -1.0  ... -1.00        -1.0       -1.00     -1.0  -1.0   \n",
       "4       1     0   -1.0  ...  7.45        36.9        0.56     -1.0  51.0   \n",
       "\n",
       "   pco2   bun  glucose  bilirubin   fio2  \n",
       "0  -1.0  27.0     95.0        4.1   -1.0  \n",
       "1  -1.0  -1.0     -1.0       -1.0   -1.0  \n",
       "2  -1.0  31.0    168.0        0.4   -1.0  \n",
       "3  -1.0  -1.0     -1.0       -1.0   -1.0  \n",
       "4  37.0   9.0    145.0       -1.0  100.0  \n",
       "\n",
       "[5 rows x 26 columns]"
      ]
     },
     "execution_count": 36,
     "metadata": {},
     "output_type": "execute_result"
    }
   ],
   "source": [
    "aps = pd.read_csv(apache_aps_path)\n",
    "print(aps.shape)\n",
    "aps.head()"
   ]
  },
  {
   "cell_type": "code",
   "execution_count": 37,
   "id": "8b652faa",
   "metadata": {},
   "outputs": [],
   "source": [
    "aps_pp = aps.drop(columns=['apacheapsvarid'])"
   ]
  },
  {
   "cell_type": "code",
   "execution_count": 38,
   "id": "b4a13b21",
   "metadata": {},
   "outputs": [],
   "source": [
    "aps_pp.to_csv(save_path + 'by_modality/mortality_task/modality6_aps.csv')"
   ]
  },
  {
   "cell_type": "markdown",
   "id": "44050374",
   "metadata": {},
   "source": [
    "----"
   ]
  }
 ],
 "metadata": {
  "kernelspec": {
   "display_name": "Python 3 (ipykernel)",
   "language": "python",
   "name": "python3"
  },
  "language_info": {
   "codemirror_mode": {
    "name": "ipython",
    "version": 3
   },
   "file_extension": ".py",
   "mimetype": "text/x-python",
   "name": "python",
   "nbconvert_exporter": "python",
   "pygments_lexer": "ipython3",
   "version": "3.11.5"
  }
 },
 "nbformat": 4,
 "nbformat_minor": 5
}
