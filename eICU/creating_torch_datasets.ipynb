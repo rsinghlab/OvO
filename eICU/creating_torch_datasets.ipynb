{
 "cells": [
  {
   "cell_type": "code",
   "execution_count": 44,
   "id": "3fed1876",
   "metadata": {},
   "outputs": [
    {
     "name": "stdout",
     "output_type": "stream",
     "text": [
      "demographics\n",
      "demographics\n",
      "demographics\n",
      "diagnosis\n",
      "diagnosis\n",
      "diagnosis\n",
      "treatment\n",
      "treatment\n",
      "treatment\n",
      "medication\n",
      "medication\n",
      "medication\n",
      "lab\n",
      "lab\n",
      "lab\n",
      "aps\n",
      "aps\n",
      "aps\n"
     ]
    }
   ],
   "source": [
    "import sys\n",
    "sys.path.append('../..')\n",
    "import torch\n",
    "from torch.utils.data import Dataset\n",
    "import pandas as pd\n",
    "import os\n",
    "from common_files.custom_sets import eICUDataset\n",
    "\n",
    "\n",
    "base_path = \"mortality_splits/\"\n",
    "save_path = \"mortality_torch_datasets/\"  # Directory to save the datasets\n",
    "os.makedirs(save_path, exist_ok=True)\n",
    "\n",
    "modalities = {\n",
    "    'demographics': ['1_demographics_train.csv', '1_demographics_test.csv', '1_demographics_val.csv'],\n",
    "    'diagnosis': ['2_diagnosis_train.csv', '2_diagnosis_test.csv', '2_diagnosis_val.csv'],\n",
    "    'treatment': ['3_treatment_train.csv', '3_treatment_test.csv', '3_treatment_val.csv'],\n",
    "    'medication': ['4_medication_train.csv', '4_medication_test.csv', '4_medication_val.csv'],\n",
    "    'lab': ['5_lab_train.csv', '5_lab_test.csv', '5_lab_val.csv'],\n",
    "    'aps': ['6_aps_train.csv', '6_aps_test.csv', '6_aps_val.csv']\n",
    "}\n",
    "\n",
    "# Create and save a dataset for each file\n",
    "for modality, files in modalities.items():\n",
    "    for file in files:\n",
    "        print(modality)\n",
    "        file_path = base_path + file\n",
    "        dataset = eICUDataset(file_path)\n",
    "        split_name = file.split('_')[-1].split('.')[0]  # 'train', 'test', or 'val'\n",
    "        save_file_path = os.path.join(save_path, f\"{modality}_{split_name}.pt\")\n",
    "        dataset.save(save_file_path)\n",
    "\n"
   ]
  }
 ],
 "metadata": {
  "kernelspec": {
   "display_name": "Python 3 (ipykernel)",
   "language": "python",
   "name": "python3"
  },
  "language_info": {
   "codemirror_mode": {
    "name": "ipython",
    "version": 3
   },
   "file_extension": ".py",
   "mimetype": "text/x-python",
   "name": "python",
   "nbconvert_exporter": "python",
   "pygments_lexer": "ipython3",
   "version": "3.9.0"
  }
 },
 "nbformat": 4,
 "nbformat_minor": 5
}
