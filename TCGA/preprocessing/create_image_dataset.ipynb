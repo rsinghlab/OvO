{
 "cells": [
  {
   "attachments": {},
   "cell_type": "markdown",
   "id": "eafeca45",
   "metadata": {},
   "source": [
    "## Preprocess the image dataset"
   ]
  },
  {
   "cell_type": "code",
   "execution_count": 1,
   "id": "b471d75e-6845-4e01-89c0-b4a6a9a1680a",
   "metadata": {},
   "outputs": [],
   "source": [
    "import pandas as pd\n",
    "import numpy as np\n",
    "import os\n",
    "import slideio \n",
    "from PIL import Image"
   ]
  },
  {
   "attachments": {},
   "cell_type": "markdown",
   "id": "af012ce2",
   "metadata": {},
   "source": [
    "We first need the path to our folder containing case-organized data and the destination for storing the processed image data."
   ]
  },
  {
   "cell_type": "code",
   "execution_count": 2,
   "id": "bb35be5c",
   "metadata": {},
   "outputs": [],
   "source": [
    "ORGANIZED_BY_CASE_PATH= \".../TCGA/data_by_cases\"\n",
    "DESTINATION_DATA_PATH =  \".../TCGA/data_processed/images/\""
   ]
  },
  {
   "cell_type": "code",
   "execution_count": null,
   "id": "a1094991",
   "metadata": {},
   "outputs": [],
   "source": [
    "def get_FFPE_images(case, by_case_path):\n",
    "    '''\n",
    "    Given a Case ID, return the path to the correct (DX) .svs image for that Case ID. \n",
    "    ''' \n",
    "    img_files = os.listdir(os.path.join(by_case_path, case, \"images\"))\n",
    "    for f in img_files:\n",
    "        if (f.split('.')[0][-3:-1] == 'DX'):\n",
    "            return os.path.join(by_case_path, case, 'images', f)\n",
    "    return None"
   ]
  },
  {
   "cell_type": "code",
   "execution_count": null,
   "id": "a063c058",
   "metadata": {},
   "outputs": [],
   "source": [
    "def get_valid_case_paths(by_case_path):\n",
    "    cases = os.listdir(by_case_path)\n",
    "    #Populate a dictionary of Case ID's and their image paths.\n",
    "    valid_case_paths = {}\n",
    "    j = 0\n",
    "    for case in cases:\n",
    "        n = get_FFPE_images(case, by_case_path)\n",
    "        if n is not None:\n",
    "            valid_case_paths[case] = n\n",
    "            j+=1\n",
    "    print(f\"{j} cases out of {len(cases)} have valid images\")\n",
    "    return valid_case_paths"
   ]
  },
  {
   "cell_type": "code",
   "execution_count": null,
   "id": "f4cec445",
   "metadata": {},
   "outputs": [],
   "source": [
    "def get_med_aspect_ratio(valid_case_paths):\n",
    "        #Populate a list of image dimensions to calculate the median aspect ratio.\n",
    "        orig_dims = []\n",
    "        for (case, img_path) in valid_case_paths.items():\n",
    "            \n",
    "            slide = slideio.open_slide(img_path,'SVS')\n",
    "            scene = slide.get_scene(0)\n",
    "            \n",
    "            dims = (scene.rect[2], scene.rect[3])\n",
    "            orig_dims.append(dims)\n",
    "            \n",
    "        aspect_ratio = [x/y for x, y in orig_dims]\n",
    "\n",
    "        med_aspect_ratio = round(np.median(aspect_ratio), 4)\n",
    "        print(f\"Median aspect ratio: {med_aspect_ratio}\")\n",
    "        return med_aspect_ratio\n"
   ]
  },
  {
   "cell_type": "code",
   "execution_count": null,
   "id": "1cc8ddc0",
   "metadata": {},
   "outputs": [],
   "source": [
    "def save_image_data(valid_case_paths, med_aspect_ratio, save_path):\n",
    "\n",
    "    '''\n",
    "    Transpose all vertical images to avoid excessive distortion.\n",
    "    Resize all images to new dimensions based on median aspect ratio.\n",
    "    Finally, save image as .jpg in either image_train, image_test, or image_val folder.\n",
    "    '''\n",
    "    h = 300\n",
    "    w = round(med_aspect_ratio * h)\n",
    "    print(f\"New Width: {w}, New Height: {h}\")\n",
    "\n",
    "    for (case, img_path) in valid_case_paths.items():\n",
    "\n",
    "        slide = slideio.open_slide(img_path,'SVS')\n",
    "        scene = slide.get_scene(0)\n",
    "        image = scene.read_block(size=(0,h))\n",
    "        orig_width = image.shape[1]\n",
    "        \n",
    "        new_image = Image.fromarray(image)\n",
    "        if(h > orig_width):\n",
    "            new_image = new_image.transpose(Image.ROTATE_90)\n",
    "            \n",
    "        resized_image = new_image.resize((w, h))\n",
    "            \n",
    "        print(case, \"successful\")\n",
    "        \n",
    "        resized_image.save(save_path + case + '.jpg')\n",
    "        "
   ]
  },
  {
   "cell_type": "code",
   "execution_count": null,
   "id": "f6ccfc5d",
   "metadata": {},
   "outputs": [],
   "source": [
    "valid_case_paths = get_valid_case_paths(ORGANIZED_BY_CASE_PATH)\n",
    "med_ratio = get_med_aspect_ratio(valid_case_paths)\n",
    "save_image_data(valid_case_paths, med_ratio, DESTINATION_DATA_PATH)"
   ]
  },
  {
   "cell_type": "markdown",
   "id": "3209745f",
   "metadata": {},
   "source": [
    "----"
   ]
  }
 ],
 "metadata": {
  "kernelspec": {
   "display_name": "Python 3 (ipykernel)",
   "language": "python",
   "name": "python3"
  },
  "language_info": {
   "codemirror_mode": {
    "name": "ipython",
    "version": 3
   },
   "file_extension": ".py",
   "mimetype": "text/x-python",
   "name": "python",
   "nbconvert_exporter": "python",
   "pygments_lexer": "ipython3",
   "version": "3.7.4"
  }
 },
 "nbformat": 4,
 "nbformat_minor": 5
}
