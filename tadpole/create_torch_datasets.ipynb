{
 "cells": [
  {
   "cell_type": "code",
   "execution_count": 1,
   "id": "6b388b8c",
   "metadata": {},
   "outputs": [
    {
     "name": "stdout",
     "output_type": "stream",
     "text": [
      "mri: 12664 non-null values\n",
      "fdg_pet: 9349 non-null values\n",
      "av45_pet: 6153 non-null values\n",
      "csf: 2373 non-null values\n",
      "cognitive_tests: 12741 non-null values\n",
      "clinical: 12741 non-null values\n"
     ]
    }
   ],
   "source": [
    "import pandas as pd \n",
    "import numpy as np\n",
    "import os\n",
    "\n",
    "FILE_PATH = \"../tadpole_dataset_8modality/\"\n",
    "\n",
    "# remove modalities here to try diff combos\n",
    "modality_names = [\"mri\", \"fdg_pet\", \"av45_pet\", \"csf\", \"cognitive_tests\", \"clinical\"]\n",
    "patients_dict = {}\n",
    "\n",
    "for m in modality_names:\n",
    "    df = pd.read_csv(FILE_PATH + m + \".csv\", dtype=str)\n",
    "    \n",
    "    # eliminate any rows which have the majority of columns as NaN\n",
    "    df = df.replace(' ', np.nan)   \n",
    "    df = df.dropna(thresh= 4)\n",
    "    print(m + \":\", len(df), \"non-null values\")\n",
    "\n",
    "    # Make unique ID for each patient\n",
    "    df[\"unique_ID\"] = df[\"RID\"] + \"_\" + df[\"VISCODE\"]\n",
    "\n",
    "    patients_dict[m] = df\n",
    "    "
   ]
  },
  {
   "cell_type": "code",
   "execution_count": 3,
   "id": "f5ff5000",
   "metadata": {},
   "outputs": [],
   "source": [
    "from functools import reduce\n",
    "def merge_dfs(left, right):\n",
    "    return pd.merge(left, right, on=['unique_ID', \"RID\", \"PTID\", \"VISCODE\"], how='inner')\n",
    "\n",
    "# Merging all dataframes on 'unique_ID'\n",
    "merged_df = reduce(merge_dfs, patients_dict.values())\n"
   ]
  },
  {
   "cell_type": "code",
   "execution_count": 5,
   "id": "c8e10bd6",
   "metadata": {},
   "outputs": [
    {
     "name": "stderr",
     "output_type": "stream",
     "text": [
      "/tmp/ipykernel_83150/2931053357.py:17: SettingWithCopyWarning: \n",
      "A value is trying to be set on a copy of a slice from a DataFrame.\n",
      "Try using .loc[row_indexer,col_indexer] = value instead\n",
      "\n",
      "See the caveats in the documentation: https://pandas.pydata.org/pandas-docs/stable/user_guide/indexing.html#returning-a-view-versus-a-copy\n",
      "  df_modality_reduced[\"PTID_copy\"] = df_modality_reduced[\"PTID\"]\n"
     ]
    },
    {
     "name": "stdout",
     "output_type": "stream",
     "text": [
      "For mri, 34.80% of the values in the dataframe were imputed. 668 columns remain.\n",
      "For fdg_pet, 25.30% of the values in the dataframe were imputed. 20 columns remain.\n",
      "For av45_pet, 3.42% of the values in the dataframe were imputed. 246 columns remain.\n",
      "For csf, 0.02% of the values in the dataframe were imputed. 14 columns remain.\n",
      "For cognitive_tests, 0.36% of the values in the dataframe were imputed. 20 columns remain.\n",
      "For clinical, 0.82% of the values in the dataframe were imputed. 31 columns remain.\n"
     ]
    }
   ],
   "source": [
    "df = merged_df\n",
    "new_df = None\n",
    "\n",
    "for modality, modality_df in patients_dict.items():\n",
    "    # Get columns for the current modality\n",
    "    modality_columns = modality_df.columns\n",
    "\n",
    "    # Remove columns with more than 70% NaNs\n",
    "    nan_threshold = 0.7 * len(df)\n",
    "    columns_to_keep = df[modality_columns].isna().sum() <= nan_threshold\n",
    "    df_modality_reduced = df[modality_columns[columns_to_keep]]\n",
    "\n",
    "    # Calculate initially NaN values (before imputation)\n",
    "    initially_nan = df_modality_reduced.isna()\n",
    "    \n",
    "    #groupby is doing a weird thing where its getting rid of the grouped by column, and the usual resetting index is not working\n",
    "    df_modality_reduced[\"PTID_copy\"] = df_modality_reduced[\"PTID\"]\n",
    "    imputed_df = df_modality_reduced.groupby('PTID_copy', as_index=False).fillna(method='ffill')\n",
    "    imputed_df[\"PTID_copy\"] = imputed_df[\"PTID\"]\n",
    "    imputed_df = imputed_df.groupby('PTID_copy').fillna(method='bfill')\n",
    "    imputed_df.fillna(-1, inplace=True)\n",
    "\n",
    "    # Re-apply the mask to find out which values were filled\n",
    "    newly_filled = initially_nan & ~imputed_df.isna()\n",
    "\n",
    "    # Merge the imputed modality-specific DataFrame into the new DataFrame\n",
    "    if new_df is None:\n",
    "        new_df = imputed_df\n",
    "    else:\n",
    "        new_df = pd.merge(new_df, imputed_df, on=['unique_ID', 'RID', 'PTID', 'VISCODE'], how='outer')\n",
    "\n",
    "    # Count total and imputed values\n",
    "    total_values = newly_filled.size\n",
    "    num_imputed_values = newly_filled.sum().sum()\n",
    "    imputed_percentage = (num_imputed_values / total_values) * 100\n",
    "    columns_remain = len(newly_filled.columns)\n",
    "\n",
    "    # Print the statistics\n",
    "    print(f\"For {modality}, {imputed_percentage:.2f}% of the values in the dataframe were imputed. {columns_remain} columns remain.\")\n"
   ]
  },
  {
   "cell_type": "code",
   "execution_count": 8,
   "id": "ba2df9c5",
   "metadata": {},
   "outputs": [
    {
     "data": {
      "text/plain": [
       "MCI    767\n",
       "CN     493\n",
       "AD     143\n",
       "Name: DX_bl, dtype: int64"
      ]
     },
     "execution_count": 8,
     "metadata": {},
     "output_type": "execute_result"
    }
   ],
   "source": [
    "#grouping according to the challenge instructions:\n",
    "\"\"\"\n",
    "Forecasts will be limited to three categories: cognitively normal (CN and SMC in ADNI’s DX field); mild cognitive impairment (EMCI or LMCI); probable Alzheimer’s disease (AD).\n",
    "\"\"\"\n",
    "new_df['DX_bl'] = new_df['DX_bl'].replace({\"SMC\":\"CN\", \"LMCI\": \"MCI\", \"EMCI\": \"MCI\"})\n",
    "new_df[\"DX_bl\"].value_counts() "
   ]
  },
  {
   "cell_type": "code",
   "execution_count": 13,
   "id": "3d149656",
   "metadata": {},
   "outputs": [],
   "source": [
    "#Mapping of DX for future reference: 0:AD, 1:CN, 2:MCI\n",
    "new_df[\"DX_bl\"] = new_df[\"DX_bl\"].astype('category').cat.codes.astype('int')"
   ]
  },
  {
   "cell_type": "code",
   "execution_count": 10,
   "id": "c50524bd",
   "metadata": {},
   "outputs": [
    {
     "name": "stderr",
     "output_type": "stream",
     "text": [
      "/tmp/ipykernel_83150/3541179267.py:10: FutureWarning: casting datetime64[ns] values to int64 with .astype(...) is deprecated and will raise in a future version. Use .view(...) instead.\n",
      "  new_df[col] = new_df[col].astype('int64') // 10**9\n"
     ]
    }
   ],
   "source": [
    "# Convert number columns to floats, string columns to integers, date columns to date times\n",
    "# convert all columns to numeric\n",
    "new_df = new_df.apply(pd.to_numeric, errors='ignore')\n",
    "\n",
    "# for all columns of type object, convert to categorical\n",
    "for col in new_df.select_dtypes(include='object').columns:\n",
    "    # if col is date, convert to datetime\n",
    "    if \"DATE\" in col:\n",
    "        new_df[col] = pd.to_datetime(new_df[col], errors='coerce')\n",
    "        new_df[col] = new_df[col].astype('int64') // 10**9\n",
    "    else:\n",
    "        new_df[col] = new_df[col].astype('category').cat.codes.astype('int')"
   ]
  },
  {
   "cell_type": "code",
   "execution_count": null,
   "id": "c72b7544",
   "metadata": {},
   "outputs": [],
   "source": [
    "# Drop columns containing \"update_stamp\"\n",
    "new_df = new_df.drop(columns=[col for col in new_df.columns if \"update_stamp\" in col])"
   ]
  },
  {
   "cell_type": "code",
   "execution_count": 12,
   "id": "f5472b29",
   "metadata": {},
   "outputs": [],
   "source": [
    "from sklearn.model_selection import train_test_split\n",
    "import random\n",
    "\n",
    "# Set a random seed for reproducibility\n",
    "random_seed = 42\n",
    "np.random.seed(random_seed)\n",
    "random.seed(random_seed)\n",
    "\n",
    "# Group by 'unique_ID' and create a list of DataFrames\n",
    "grouped = [group for _, group in new_df.groupby('unique_ID')]\n",
    "\n",
    "# Shuffle the list of DataFrames to ensure random distribution\n",
    "random.shuffle(grouped)\n",
    "\n",
    "# Determine the split sizes (e.g., 70% train, 15% validation, 15% test)\n",
    "train_size = int(0.7 * len(grouped))\n",
    "val_size = int(0.15 * len(grouped))\n",
    "\n",
    "# Split the data into train, validation, and test sets\n",
    "train = pd.concat(grouped[:train_size])\n",
    "val = pd.concat(grouped[train_size:train_size+val_size])\n",
    "test = pd.concat(grouped[train_size+val_size:])\n",
    "\n",
    "# Now you have train, val, and test DataFrames with unique patients in each\n"
   ]
  },
  {
   "cell_type": "code",
   "execution_count": 13,
   "id": "11bb0332",
   "metadata": {},
   "outputs": [
    {
     "name": "stdout",
     "output_type": "stream",
     "text": [
      "982\n",
      "211\n",
      "210\n"
     ]
    }
   ],
   "source": [
    "print(len(train))\n",
    "print(len(test))\n",
    "print(len(val))"
   ]
  },
  {
   "cell_type": "code",
   "execution_count": 17,
   "id": "78756d24",
   "metadata": {},
   "outputs": [],
   "source": [
    "# Function to save subsets of data for each modality\n",
    "def save_modality_subsets(modality_name, train_data, val_data, test_data, save_dir):\n",
    "    old_columns = patients_dict[modality_name].columns\n",
    "    new_columns = list(set(old_columns).intersection(train_data.columns))\n",
    "    train_subset = train_data[new_columns]\n",
    "    val_subset = val_data[new_columns]\n",
    "    test_subset = test_data[new_columns]\n",
    "\n",
    "    train_subset.to_csv(os.path.join(save_dir, f\"{modality_name}_train.csv\"), index=False)\n",
    "    val_subset.to_csv(os.path.join(save_dir, f\"{modality_name}_val.csv\"), index=False)\n",
    "    test_subset.to_csv(os.path.join(save_dir, f\"{modality_name}_test.csv\"), index=False)\n",
    "\n",
    "# Main function to save all subsets\n",
    "def save_all_subsets(train, val, test, modalities, save_dir):\n",
    "    if not os.path.exists(save_dir):\n",
    "        os.makedirs(save_dir)\n",
    "\n",
    "    for modality in modalities:\n",
    "        save_modality_subsets(modality, train, val, test, save_dir)\n"
   ]
  },
  {
   "cell_type": "code",
   "execution_count": 18,
   "id": "94c5e1d9",
   "metadata": {},
   "outputs": [],
   "source": [
    "# Directory to save the subsets\n",
    "save_directory = \"split_cleaned_numeric_modalities\" # Specify your directory here\n",
    "\n",
    "modalities = [\"mri\", \"fdg_pet\", \"av45_pet\", \"csf\", \"cognitive_tests\", \"clinical\"]\n",
    "\n",
    "save_all_subsets(train, val, test, modalities, save_directory)\n"
   ]
  },
  {
   "cell_type": "markdown",
   "metadata": {},
   "source": [
    "## Turn into pytorch datasetes"
   ]
  },
  {
   "cell_type": "code",
   "execution_count": 9,
   "id": "cbdde675",
   "metadata": {},
   "outputs": [],
   "source": [
    "import pandas as pd \n",
    "import numpy as np\n",
    "import os\n",
    "import torch\n",
    "import sys\n",
    "sys.path.append('../..')\n",
    "from common_files.custom_sets import tadpoleDataset\n",
    "'''\n",
    "Create datasets for all modalities and modes\n",
    "'''\n",
    "modalities = [\"mri\", \"fdg_pet\", \"av45_pet\", \"csf\", \"cognitive_tests\", \"clinical\"]\n",
    "modes = [\"train\", \"val\", \"test\"]\n",
    "\n",
    "for mode in modes:\n",
    "    labels = pd.read_csv(f\"split_cleaned_numeric_modalities/clinical_{mode}.csv\")[\"DX_bl\"]\n",
    "\n",
    "    for modality in modalities:\n",
    "\n",
    "        df = pd.read_csv(f\"split_cleaned_numeric_modalities/{modality}_{mode}.csv\")\n",
    "\n",
    "        # Drop identifying columns\n",
    "        df = df.drop([\"unique_ID\", \"PTID\", \"RID\", \"VISCODE\"], axis=1)\n",
    "\n",
    "        # Drop labels which reveal diagnosis\n",
    "        if modality == \"clinical\":\n",
    "            df = df.drop([\"DX_bl\", \"DX\"], axis=1)\n",
    "        if modality == \"cognitive_tests\":\n",
    "            df = df.drop([\"MMSE_bl\"], axis=1)\n",
    "\n",
    "        # Create pytorch dataset and save it\n",
    "        dataset = tadpoleDataset(df, labels)\n",
    "        if not os.path.exists(\"tadpole_datasets\"):\n",
    "            os.makedirs(\"tadpole_datasets\")\n",
    "        torch.save(dataset, f\"tadpole_datasets/{modality}_{mode}_dataset.pt\")\n",
    "\n"
   ]
  }
 ],
 "metadata": {
  "kernelspec": {
   "display_name": "Python 3 (ipykernel)",
   "language": "python",
   "name": "python3"
  },
  "language_info": {
   "codemirror_mode": {
    "name": "ipython",
    "version": 3
   },
   "file_extension": ".py",
   "mimetype": "text/x-python",
   "name": "python",
   "nbconvert_exporter": "python",
   "pygments_lexer": "ipython3",
   "version": "3.9.16"
  }
 },
 "nbformat": 4,
 "nbformat_minor": 5
}
